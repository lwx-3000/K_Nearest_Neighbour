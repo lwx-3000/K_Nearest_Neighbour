{
 "cells": [
  {
   "cell_type": "code",
   "execution_count": 1,
   "metadata": {},
   "outputs": [],
   "source": [
    "from matplotlib import pyplot as io \n",
    "import numpy as np\n",
    "from PIL import Image\n",
    "import random"
   ]
  },
  {
   "cell_type": "code",
   "execution_count": 2,
   "metadata": {},
   "outputs": [],
   "source": [
    "# Image to array\n",
    "img1 = io.imread('Koala.jpg').copy() #image is saved as rows * columns * 3 array print (img1)\n",
    "img2 = io.imread('Penguins.jpg').copy()"
   ]
  },
  {
   "cell_type": "code",
   "execution_count": 3,
   "metadata": {},
   "outputs": [],
   "source": [
    "random.seed(31)"
   ]
  },
  {
   "cell_type": "code",
   "execution_count": 4,
   "metadata": {},
   "outputs": [],
   "source": [
    "def randxy():\n",
    "    i=random.randint(0,np.shape(img1)[0]-1)\n",
    "    j=random.randint(0,np.shape(img1)[1]-1)\n",
    "    x=[i,j]\n",
    "    return x"
   ]
  },
  {
   "cell_type": "code",
   "execution_count": 5,
   "metadata": {},
   "outputs": [],
   "source": [
    "def pick(k):\n",
    "    x=0\n",
    "    locations=[]\n",
    "    while x<k:\n",
    "        locations.append(randxy())\n",
    "        x=x+1\n",
    "    return locations"
   ]
  },
  {
   "cell_type": "code",
   "execution_count": 6,
   "metadata": {},
   "outputs": [],
   "source": [
    "def getKmean(k):\n",
    "    x = pick(k)\n",
    "    kpos = np.array(x)\n",
    "    return kpos"
   ]
  },
  {
   "cell_type": "code",
   "execution_count": 7,
   "metadata": {},
   "outputs": [],
   "source": [
    "def getRGB(kpos,img):\n",
    "    rgb={}\n",
    "    for i in range(np.shape(kpos)[0]): \n",
    "        rgb[i]=np.array(img[kpos[i][0],kpos[i][1]])\n",
    "    return rgb"
   ]
  },
  {
   "cell_type": "code",
   "execution_count": 8,
   "metadata": {},
   "outputs": [],
   "source": [
    "def KNN(iteration,img,k):\n",
    "    iterate = 0\n",
    "    kmeans = getKmean(k)\n",
    "    rgbMean = getRGB(kmeans,img)\n",
    "    while iterate < iteration:\n",
    "        iterate = iterate + 1\n",
    "        for x in range(np.shape(img)[0]):\n",
    "            for y in range(np.shape(img)[1]):\n",
    "                dist = {}\n",
    "                for z in range(np.shape(kmeans)[0]):\n",
    "                    a=img[x][y]\n",
    "                    b=rgbMean[z]\n",
    "                    dist[z] = ((a[0]-b[0])**2)+((a[1]-b[1])**2)+((a[2]-b[2]**2))\n",
    "                minkey = min(dist, key=dist.get) #find the closest mean \n",
    "#                 print(rgbMean[minkey])\n",
    "                img[x][y] = rgbMean[minkey]#replace color\n",
    "    return img"
   ]
  },
  {
   "cell_type": "code",
   "execution_count": null,
   "metadata": {
    "scrolled": true
   },
   "outputs": [],
   "source": [
    "newimg1 = KNN(1,img1,5)"
   ]
  },
  {
   "cell_type": "code",
   "execution_count": null,
   "metadata": {},
   "outputs": [],
   "source": [
    "newImage1 = Image.fromarray(newimg1) \n",
    "newImage1.save('kola_k=5.png')"
   ]
  },
  {
   "cell_type": "code",
   "execution_count": 9,
   "metadata": {},
   "outputs": [
    {
     "name": "stderr",
     "output_type": "stream",
     "text": [
      "/Users/wenxionglu/opt/anaconda3/lib/python3.7/site-packages/ipykernel_launcher.py:13: RuntimeWarning: overflow encountered in ubyte_scalars\n",
      "  del sys.path[0]\n"
     ]
    }
   ],
   "source": [
    "newimg2 = KNN(1,img1,10)"
   ]
  },
  {
   "cell_type": "code",
   "execution_count": 10,
   "metadata": {},
   "outputs": [],
   "source": [
    "ni2 = Image.fromarray(newimg2) \n",
    "ni2.save('kola_k=10.png')"
   ]
  },
  {
   "cell_type": "code",
   "execution_count": null,
   "metadata": {},
   "outputs": [],
   "source": [
    "newimg3 = KNN(1,img1,15)"
   ]
  },
  {
   "cell_type": "code",
   "execution_count": null,
   "metadata": {},
   "outputs": [],
   "source": [
    "ni3 = Image.fromarray(newimg3) \n",
    "ni3.save('kola_k=15.png')"
   ]
  },
  {
   "cell_type": "code",
   "execution_count": null,
   "metadata": {},
   "outputs": [],
   "source": [
    "np.shape(newimg1)"
   ]
  },
  {
   "cell_type": "code",
   "execution_count": null,
   "metadata": {},
   "outputs": [],
   "source": [
    "penguin1 = KNN(1,img2,5)"
   ]
  },
  {
   "cell_type": "code",
   "execution_count": null,
   "metadata": {},
   "outputs": [],
   "source": [
    "pg1 = Image.fromarray(penguin1) \n",
    "pg1.save('penguinK=5.png')"
   ]
  },
  {
   "cell_type": "code",
   "execution_count": null,
   "metadata": {},
   "outputs": [],
   "source": [
    "penguin2 = KNN(1,img2,10)"
   ]
  },
  {
   "cell_type": "code",
   "execution_count": null,
   "metadata": {},
   "outputs": [],
   "source": [
    "pg2 = Image.fromarray(penguin2) \n",
    "pg2.save('penguinK=10.png')"
   ]
  },
  {
   "cell_type": "code",
   "execution_count": null,
   "metadata": {
    "scrolled": true
   },
   "outputs": [],
   "source": [
    "penguin3 = KNN(1,img2,15)"
   ]
  },
  {
   "cell_type": "code",
   "execution_count": null,
   "metadata": {},
   "outputs": [],
   "source": [
    "pg3 = Image.fromarray(penguin3) \n",
    "pg3.save('penguinK=15.png')"
   ]
  },
  {
   "cell_type": "code",
   "execution_count": null,
   "metadata": {},
   "outputs": [],
   "source": [
    "penguin4 = KNN(1,img2,20)"
   ]
  },
  {
   "cell_type": "code",
   "execution_count": null,
   "metadata": {},
   "outputs": [],
   "source": [
    "pg4 = Image.fromarray(penguin4) \n",
    "pg4.save('penguinK=20.png')"
   ]
  },
  {
   "cell_type": "code",
   "execution_count": null,
   "metadata": {},
   "outputs": [],
   "source": []
  }
 ],
 "metadata": {
  "kernelspec": {
   "display_name": "Python 3",
   "language": "python",
   "name": "python3"
  },
  "language_info": {
   "codemirror_mode": {
    "name": "ipython",
    "version": 3
   },
   "file_extension": ".py",
   "mimetype": "text/x-python",
   "name": "python",
   "nbconvert_exporter": "python",
   "pygments_lexer": "ipython3",
   "version": "3.7.7"
  }
 },
 "nbformat": 4,
 "nbformat_minor": 4
}
